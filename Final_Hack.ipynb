{
  "nbformat": 4,
  "nbformat_minor": 0,
  "metadata": {
    "colab": {
      "name": "Final_Hack.ipynb",
      "provenance": [],
      "collapsed_sections": [],
      "include_colab_link": true
    },
    "kernelspec": {
      "display_name": "Python 3",
      "name": "python3"
    },
    "language_info": {
      "name": "python"
    }
  },
  "cells": [
    {
      "cell_type": "markdown",
      "metadata": {
        "id": "view-in-github",
        "colab_type": "text"
      },
      "source": [
        "<a href=\"https://colab.research.google.com/github/sukhmani0345/ChatBot-Nincompoop/blob/main/Final_Hack.ipynb\" target=\"_parent\"><img src=\"https://colab.research.google.com/assets/colab-badge.svg\" alt=\"Open In Colab\"/></a>"
      ]
    },
    {
      "cell_type": "code",
      "metadata": {
        "id": "u2UTtWWW1XrP"
      },
      "source": [
        "#Description: This is a 'Smart' chat bot program"
      ],
      "execution_count": null,
      "outputs": []
    },
    {
      "cell_type": "code",
      "metadata": {
        "id": "SvDHrPoP2luU",
        "colab": {
          "base_uri": "https://localhost:8080/"
        },
        "outputId": "71be8e18-6b05-471e-9ba4-61757c67c3fa"
      },
      "source": [
        "pip install nltk "
      ],
      "execution_count": null,
      "outputs": [
        {
          "output_type": "stream",
          "text": [
            "Requirement already satisfied: nltk in /usr/local/lib/python3.7/dist-packages (3.2.5)\n",
            "Requirement already satisfied: six in /usr/local/lib/python3.7/dist-packages (from nltk) (1.15.0)\n"
          ],
          "name": "stdout"
        }
      ]
    },
    {
      "cell_type": "code",
      "metadata": {
        "id": "xweuiEfn24YM",
        "colab": {
          "base_uri": "https://localhost:8080/"
        },
        "outputId": "69f186e4-0f53-42f1-8045-b144cc8cf08b"
      },
      "source": [
        "pip install newspaper3k"
      ],
      "execution_count": null,
      "outputs": [
        {
          "output_type": "stream",
          "text": [
            "Collecting newspaper3k\n",
            "\u001b[?25l  Downloading https://files.pythonhosted.org/packages/d7/b9/51afecb35bb61b188a4b44868001de348a0e8134b4dfa00ffc191567c4b9/newspaper3k-0.2.8-py3-none-any.whl (211kB)\n",
            "\u001b[K     |████████████████████████████████| 215kB 23.2MB/s \n",
            "\u001b[?25hRequirement already satisfied: PyYAML>=3.11 in /usr/local/lib/python3.7/dist-packages (from newspaper3k) (3.13)\n",
            "Collecting cssselect>=0.9.2\n",
            "  Downloading https://files.pythonhosted.org/packages/3b/d4/3b5c17f00cce85b9a1e6f91096e1cc8e8ede2e1be8e96b87ce1ed09e92c5/cssselect-1.1.0-py2.py3-none-any.whl\n",
            "Requirement already satisfied: nltk>=3.2.1 in /usr/local/lib/python3.7/dist-packages (from newspaper3k) (3.2.5)\n",
            "Collecting feedparser>=5.2.1\n",
            "\u001b[?25l  Downloading https://files.pythonhosted.org/packages/1c/21/faf1bac028662cc8adb2b5ef7a6f3999a765baa2835331df365289b0ca56/feedparser-6.0.2-py3-none-any.whl (80kB)\n",
            "\u001b[K     |████████████████████████████████| 81kB 8.8MB/s \n",
            "\u001b[?25hCollecting jieba3k>=0.35.1\n",
            "\u001b[?25l  Downloading https://files.pythonhosted.org/packages/a9/cb/2c8332bcdc14d33b0bedd18ae0a4981a069c3513e445120da3c3f23a8aaa/jieba3k-0.35.1.zip (7.4MB)\n",
            "\u001b[K     |████████████████████████████████| 7.4MB 44.4MB/s \n",
            "\u001b[?25hCollecting tinysegmenter==0.3\n",
            "  Downloading https://files.pythonhosted.org/packages/17/82/86982e4b6d16e4febc79c2a1d68ee3b707e8a020c5d2bc4af8052d0f136a/tinysegmenter-0.3.tar.gz\n",
            "Requirement already satisfied: Pillow>=3.3.0 in /usr/local/lib/python3.7/dist-packages (from newspaper3k) (7.1.2)\n",
            "Requirement already satisfied: lxml>=3.6.0 in /usr/local/lib/python3.7/dist-packages (from newspaper3k) (4.2.6)\n",
            "Requirement already satisfied: python-dateutil>=2.5.3 in /usr/local/lib/python3.7/dist-packages (from newspaper3k) (2.8.1)\n",
            "Collecting tldextract>=2.0.1\n",
            "\u001b[?25l  Downloading https://files.pythonhosted.org/packages/7e/62/b6acd3129c5615b9860e670df07fd55b76175b63e6b7f68282c7cad38e9e/tldextract-3.1.0-py2.py3-none-any.whl (87kB)\n",
            "\u001b[K     |████████████████████████████████| 92kB 11.3MB/s \n",
            "\u001b[?25hRequirement already satisfied: requests>=2.10.0 in /usr/local/lib/python3.7/dist-packages (from newspaper3k) (2.23.0)\n",
            "Requirement already satisfied: beautifulsoup4>=4.4.1 in /usr/local/lib/python3.7/dist-packages (from newspaper3k) (4.6.3)\n",
            "Collecting feedfinder2>=0.0.4\n",
            "  Downloading https://files.pythonhosted.org/packages/35/82/1251fefec3bb4b03fd966c7e7f7a41c9fc2bb00d823a34c13f847fd61406/feedfinder2-0.0.4.tar.gz\n",
            "Requirement already satisfied: six in /usr/local/lib/python3.7/dist-packages (from nltk>=3.2.1->newspaper3k) (1.15.0)\n",
            "Collecting sgmllib3k\n",
            "  Downloading https://files.pythonhosted.org/packages/9e/bd/3704a8c3e0942d711c1299ebf7b9091930adae6675d7c8f476a7ce48653c/sgmllib3k-1.0.0.tar.gz\n",
            "Requirement already satisfied: filelock>=3.0.8 in /usr/local/lib/python3.7/dist-packages (from tldextract>=2.0.1->newspaper3k) (3.0.12)\n",
            "Requirement already satisfied: idna in /usr/local/lib/python3.7/dist-packages (from tldextract>=2.0.1->newspaper3k) (2.10)\n",
            "Collecting requests-file>=1.4\n",
            "  Downloading https://files.pythonhosted.org/packages/77/86/cdb5e8eaed90796aa83a6d9f75cfbd37af553c47a291cd47bc410ef9bdb2/requests_file-1.5.1-py2.py3-none-any.whl\n",
            "Requirement already satisfied: chardet<4,>=3.0.2 in /usr/local/lib/python3.7/dist-packages (from requests>=2.10.0->newspaper3k) (3.0.4)\n",
            "Requirement already satisfied: certifi>=2017.4.17 in /usr/local/lib/python3.7/dist-packages (from requests>=2.10.0->newspaper3k) (2020.12.5)\n",
            "Requirement already satisfied: urllib3!=1.25.0,!=1.25.1,<1.26,>=1.21.1 in /usr/local/lib/python3.7/dist-packages (from requests>=2.10.0->newspaper3k) (1.24.3)\n",
            "Building wheels for collected packages: jieba3k, tinysegmenter, feedfinder2, sgmllib3k\n",
            "  Building wheel for jieba3k (setup.py) ... \u001b[?25l\u001b[?25hdone\n",
            "  Created wheel for jieba3k: filename=jieba3k-0.35.1-cp37-none-any.whl size=7398406 sha256=896067a576d4870496198eb200f20c9b1925ff6a4e32b2da7a8aefb10c36475c\n",
            "  Stored in directory: /root/.cache/pip/wheels/83/15/9c/a3f1f67e7f7181170ad37d32e503c35da20627c013f438ed34\n",
            "  Building wheel for tinysegmenter (setup.py) ... \u001b[?25l\u001b[?25hdone\n",
            "  Created wheel for tinysegmenter: filename=tinysegmenter-0.3-cp37-none-any.whl size=13538 sha256=e754ac17f8cddf4a4fe33f8c40810e130c8f01db8bd158bc8ac45ab71583705d\n",
            "  Stored in directory: /root/.cache/pip/wheels/81/2b/43/a02ede72324dd40cdd7ca53aad718c7710628e91b8b0dc0f02\n",
            "  Building wheel for feedfinder2 (setup.py) ... \u001b[?25l\u001b[?25hdone\n",
            "  Created wheel for feedfinder2: filename=feedfinder2-0.0.4-cp37-none-any.whl size=3358 sha256=ca1318ad9bbbb10d958ca1adad060e2572c84254a86a755f3a6f6aa210512724\n",
            "  Stored in directory: /root/.cache/pip/wheels/de/03/ca/778e3a7a627e3d98836cc890e7cb40c7575424cfd3340f40ed\n",
            "  Building wheel for sgmllib3k (setup.py) ... \u001b[?25l\u001b[?25hdone\n",
            "  Created wheel for sgmllib3k: filename=sgmllib3k-1.0.0-cp37-none-any.whl size=6067 sha256=7fb6d59557cc69cd4e7b99f5aa0f6969af5e0d79e5237800f5acc55a11a81340\n",
            "  Stored in directory: /root/.cache/pip/wheels/f1/80/5a/444ba08a550cdd241bd9baf8bae44be750efe370adb944506a\n",
            "Successfully built jieba3k tinysegmenter feedfinder2 sgmllib3k\n",
            "Installing collected packages: cssselect, sgmllib3k, feedparser, jieba3k, tinysegmenter, requests-file, tldextract, feedfinder2, newspaper3k\n",
            "Successfully installed cssselect-1.1.0 feedfinder2-0.0.4 feedparser-6.0.2 jieba3k-0.35.1 newspaper3k-0.2.8 requests-file-1.5.1 sgmllib3k-1.0.0 tinysegmenter-0.3 tldextract-3.1.0\n"
          ],
          "name": "stdout"
        }
      ]
    },
    {
      "cell_type": "code",
      "metadata": {
        "id": "OORWOU6R3C9X"
      },
      "source": [
        "#Import the libraries\n",
        "from newspaper import Article\n",
        "import random\n",
        "import string\n",
        "import nltk\n",
        "from sklearn.feature_extraction.text import CountVectorizer\n",
        "from sklearn.metrics.pairwise import cosine_similarity\n",
        "import numpy as np\n",
        "import warnings\n",
        "warnings.filterwarnings('ignore')\n"
      ],
      "execution_count": null,
      "outputs": []
    },
    {
      "cell_type": "code",
      "metadata": {
        "id": "DqQfz9hP2VHi",
        "colab": {
          "base_uri": "https://localhost:8080/"
        },
        "outputId": "4d87408e-b54f-449d-e295-156572071198"
      },
      "source": [
        "#Download the punkt package\n",
        "nltk.download('punkt', quiet= True)"
      ],
      "execution_count": null,
      "outputs": [
        {
          "output_type": "execute_result",
          "data": {
            "text/plain": [
              "True"
            ]
          },
          "metadata": {
            "tags": []
          },
          "execution_count": 5
        }
      ]
    },
    {
      "cell_type": "code",
      "metadata": {
        "id": "KQv76soZ6LpG"
      },
      "source": [
        "#Get the article\n",
        "article= Article('https://www.medicalnewstoday.com/articles/323454#what-is-anxiety')\n",
        "article.download()\n",
        "article.parse()\n",
        "article.nlp()\n",
        "corpus = article.text"
      ],
      "execution_count": null,
      "outputs": []
    },
    {
      "cell_type": "code",
      "metadata": {
        "id": "Ul0bNgO67LzO",
        "colab": {
          "base_uri": "https://localhost:8080/"
        },
        "outputId": "772dffc4-4df8-48ab-f89f-224d170d5b26"
      },
      "source": [
        "#Print the articles text\n",
        "print (corpus)"
      ],
      "execution_count": null,
      "outputs": [
        {
          "output_type": "stream",
          "text": [
            "Anxiety is a normal and often healthy emotion. However, when a person regularly feels disproportionate levels of anxiety, it might become a medical disorder. Anxiety disorders form a category of mental health diagnoses that lead to excessive nervousness, fear, apprehension, and worry These disorders alter how a person processes emotions and behave, also causing physical symptoms. Mild anxiety might be vague and unsettling, while severe anxiety may seriously affect day-to-day living. Anxiety disorders affect 40 million people in the United States. It is the most common group of mental illnesses in the country. However, only 36.9 percent of people with an anxiety disorder receive treatment.\n",
            "\n",
            "What is anxiety? Share on Pinterest Disproportionate reactions of tension and worry characterize anxiety. The American Psychological Association (APA) defines anxiety as “an emotion characterized by feelings of tension, worried thoughts and physical changes like increased blood pressure.” Knowing the difference between normal feelings of anxiety and an anxiety disorder requiring medical attention can help a person identify and treat the condition. In this article, we look at the differences between anxiety and anxiety disorder, the different types of anxiety, and the available treatment options. When does anxiety need treatment? While anxiety can cause distress, it is not always a medical condition. Anxiety When an individual faces potentially harmful or worrying triggers, feelings of anxiety are not only normal but necessary for survival. Since the earliest days of humanity, the approach of predators and incoming danger sets off alarms in the body and allows evasive action. These alarms become noticeable in the form of a raised heartbeat, sweating, and increased sensitivity to surroundings. The danger causes a rush of adrenalin, a hormone and chemical messenger in the brain, which in turn triggers these anxious reactions in a process called the “fight-or-flight’ response. This prepares humans to physically confront or flee any potential threats to safety. For many people, running from larger animals and imminent danger is a less pressing concern than it would have been for early humans. Anxieties now revolve around work, money, family life, health, and other crucial issues that demand a person’s attention without necessarily requiring the ‘fight-or-flight’ reaction. The nervous feeling before an important life event or during a difficult situation is a natural echo of the original ‘fight-or-flight’ reaction. It can still be essential to survival – anxiety about being hit by a car when crossing the street, for example, means that a person will instinctively look both ways to avoid danger. Anxiety disorders The duration or severity of an anxious feeling can sometimes be out of proportion to the original trigger, or stressor. Physical symptoms, such as increased blood pressure and nausea, may also develop. These responses move beyond anxiety into an anxiety disorder. The APA describes a person with anxiety disorder as “having recurring intrusive thoughts or concerns.” Once anxiety reaches the stage of a disorder, it can interfere with daily function.\n",
            "\n",
            "Symptoms While a number of different diagnoses constitute anxiety disorders, the symptoms of generalized anxiety disorder (GAD) will often include the following: restlessness, and a feeling of being “on-edge”\n",
            "\n",
            "uncontrollable feelings of worry\n",
            "\n",
            "increased irritability\n",
            "\n",
            "concentration difficulties\n",
            "\n",
            "sleep difficulties, such as problems in falling or staying asleep While these symptoms might be normal to experience in daily life, people with GAD will experience them to persistent or extreme levels. GAD may present as vague, unsettling worry or a more severe anxiety that disrupts day-to-day living. For information on the symptoms of other diagnoses under the umbrella of anxiety disorders, follow the links in the “Types” section below.\n",
            "\n",
            "Types Share on Pinterest Panic disorder is a type of anxiety disorder. The Diagnostic and Statistical Manual of Mental Health Disorders: Fifth Edition (DSM-V) classifies anxiety disorders into several main types. In previous editions of DSM, anxiety disorders included obsessive-compulsive disorder (OCD) and post-traumatic stress disorder (PTSD), as well as acute stress disorder. However, the manual now no longer groups these mental health difficulties under anxiety. Anxiety disorders now include the following diagnoses. Generalized anxiety disorder: This is a chronic disorder involving excessive, long-lasting anxiety and worries about nonspecific life events, objects, and situations. GAD is the most common anxiety disorder, and people with the disorder are not always able to identify the cause of their anxiety. Panic disorder: Brief or sudden attacks of intense terror and apprehension characterize panic disorder. These attacks can lead to shaking, confusion, dizziness, nausea, and breathing difficulties. Panic attacks tend to occur and escalate rapidly, peaking after 10 minutes. However, a panic attack might last for hours. Panic disorders usually occur after frightening experiences or prolonged stress but may also occur without a trigger. An individual experiencing a panic attack may misinterpret it as a life-threatening illness, and may make drastic changes in behavior to avoid future attacks. Click here to learn more about panic disorder and panic attacks. Specific phobia: This is an irrational fear and avoidance of a particular object or situation. Phobias are not like other anxiety disorders, as they relate to a specific cause. A person with a phobia might acknowledge a fear as illogical or extreme but remain unable to control feelings anxiety around the trigger. Triggers for a phobia range from situations and animals to everyday objects. Click here to learn more about phobias and how they develop. Agoraphobia: This is a fear and avoidance of places, events, or situations from which it may be difficult to escape or in which help would not be available if a person becomes trapped. People often misunderstand this condition as a phobia of open spaces and the outdoors, but it is not so simple. A person with agoraphobia may have a fear of leaving home or using elevators and public transport. Click here to learn about agoraphobia, an often-misunderstood psychological disorder. Selective mutism: This is a form of anxiety that some children experience, in which they are not able to speak in certain places or contexts, such as school, even though they may have excellent verbal communication skills around familiar people. It may be an extreme form of social phobia. Social anxiety disorder, or social phobia: This is a fear of negative judgment from others in social situations or of public embarrassment. Social anxiety disorder includes a range of feelings, such as stage fright, a fear of intimacy, and anxiety around humiliation and rejection. This disorder can cause people to avoid public situations and human contact to the point that everyday living is rendered extremely difficult. Click here to learn all you need to know about social anxiety disorder. Separation anxiety disorder: High levels of anxiety after separation from a person or place that provides feelings of security or safety characterize separation anxiety disorder. Separation might sometimes result in panic symptoms. Learn all about separation anxiety by clicking here.\n",
            "\n",
            "Causes The causes of anxiety disorders are complicated. Many might occur at once, some may lead to others, and some might not lead to an anxiety disorder unless another is present. Possible causes include: environmental stressors, such as difficulties at work, relationship problems, or family issues\n",
            "\n",
            "genetics, as people who have family members with an anxiety disorder are more likely to experience one themselves\n",
            "\n",
            "medical factors, such as the symptoms of a different disease, the effects of a medication, or the stress of an intensive surgery or prolonged recovery\n",
            "\n",
            "brain chemistry, as psychologists define many anxiety disorders as misalignments of hormones and electrical signals in the brain\n",
            "\n",
            "withdrawal from an illicit substance, the effects of which might intensify the impact of other possible causes To learn more about the causes and diagnosis of anxiety disorders, click here.\n",
            "\n",
            "Treatment Treatments will consist of a combination of psychotherapy, behavioral therapy, and medication. Alcohol dependence, depression, or other conditions can sometimes have such a strong effect on mental well-being that treating an anxiety disorder must wait until any underlying conditions are brought under control. Self-treatment Share on Pinterest Yoga can reduce the effects of an anxiety disorder. In some cases, a person can treat an anxiety disorder at home without clinical supervision. However, this may not be effective for severe or long-term anxiety disorders. There are several exercises and actions to help a person cope with milder, more focused, or shorter-term anxiety disorders, including: Stress management: Learning to manage stress can help limit potential triggers. Organize any upcoming pressures and deadlines, compile lists to make daunting tasks more manageable, and commit to taking time off from study or work.\n",
            "\n",
            "Learning to manage stress can help limit potential triggers. Organize any upcoming pressures and deadlines, compile lists to make daunting tasks more manageable, and commit to taking time off from study or work. Relaxation techniques: Simple activities can help soothe the mental and physical signs of anxiety. These techniques include meditation, deep breathing exercises, long baths, resting in the dark, and yoga.\n",
            "\n",
            "Simple activities can help soothe the mental and physical signs of anxiety. These techniques include meditation, deep breathing exercises, long baths, resting in the dark, and yoga. Exercises to replace negative thoughts with positive ones: Make a list of the negative thoughts that might be cycling as a result of anxiety, and write down another list next to it containing positive, believable thoughts to replace them. Creating a mental image of successfully facing and conquering a specific fear can also provide benefits if anxiety symptoms relate to a specific cause, such as in a phobia.\n",
            "\n",
            "Make a list of the negative thoughts that might be cycling as a result of anxiety, and write down another list next to it containing positive, believable thoughts to replace them. Creating a mental image of successfully facing and conquering a specific fear can also provide benefits if anxiety symptoms relate to a specific cause, such as in a phobia. Support network: Talk with familiar people who are supportive, such as a family member or friend. Support group services may also be available in the local area and online.\n",
            "\n",
            "Talk with familiar people who are supportive, such as a family member or friend. Support group services may also be available in the local area and online. Exercise: Physical exertion can improve self-image and release chemicals in the brain that trigger positive feelings. Counseling A standard way of treating anxiety is psychological counseling. This can include cognitive-behavioral therapy (CBT), psychotherapy, or a combination of therapies. CBT This type of psychotherapy aims to recognize and change harmful thought patterns that form the foundation of anxious and troublesome feelings. In the process, practitioners of CBT hope to limit distorted thinking and change the way people react to objects or situations that trigger anxiety. For example, a psychotherapist providing CBT for panic disorder will try to reinforce the fact that panic attacks are not really heart attacks. Exposure to fears and triggers can be a part of CBT. This encourages people to confront their fears and helps reduce sensitivity to their usual triggers of anxiety. Medications A person can support anxiety management with several types of medication. Medicines that might control some of the physical and mental symptoms include antidepressants, benzodiazepines, tricyclics, and beta-blockers. Benzodiazepines A doctor may prescribe these for certain people with anxiety, but they can be highly addictive. These drugs tend to have few side effects except for drowsiness and possible dependence. Diazepam, or Valium, is an example of a commonly prescribed benzodiazepine. Antidepressants These commonly help with anxiety, even though they also target depression. People often use serotonin reuptake inhibitors (SSRI), which have fewer side effects than older antidepressants but are likely to cause jitters, nausea, and sexual dysfunction when treatment begins. Other antidepressants include fluoxetine, or Prozac, and citalopram, or Celexa. Tricyclics This is a class of drugs older than SSRIs that provide benefits for most anxiety disorders other than OCD. These drugs might cause side effects, including dizziness, drowsiness, dry mouth, and weight gain. Imipramine and clomipramine are two examples of tricyclics. Additional drugs a person might use to treat anxiety include: monoamine oxidase inhibitors (MAOIs)\n",
            "\n",
            "beta-blockers\n",
            "\n",
            "buspirone Seek medical advice if the adverse effects of any prescribed medications become severe.\n",
            "\n",
            "Prevention There are ways to reduce the risk of anxiety disorders. Remember that anxious feelings are a natural factor of daily life, and experiencing them does not always indicate the presence of a mental health disorder. Take the following steps to help moderate anxious emotions: Reduce intake of caffeine, tea, cola, and chocolate.\n",
            "\n",
            "Before using over-the-counter (OTC) or herbal remedies, check with a doctor or pharmacist for any chemicals that may make anxiety symptoms worse.\n",
            "\n",
            "Maintain a healthy diet.\n",
            "\n",
            "Keep a regular sleep pattern.\n",
            "\n",
            "Avoid alcohol, cannabis, and other recreational drugs.\n"
          ],
          "name": "stdout"
        }
      ]
    },
    {
      "cell_type": "code",
      "metadata": {
        "id": "YW1hYLBU7fiQ"
      },
      "source": [
        "# A function to return a random greeting response to a users greeting\n",
        "def greeting_response(text):\n",
        "  text = text.lower()\n",
        "\n",
        "\n",
        "  #Bots greeting response\n",
        "  bot_greeting = ['howdy', 'hi', 'hello', 'hola']\n",
        "  #Users greeting\n",
        "  user_greeting = ['hi', 'hey', 'hello', 'hola', 'greetings', 'wassup']\n",
        "\n",
        "  for word in text.split():\n",
        "    if word in user_greeting:\n",
        "      return random.choice(bot_greeting)"
      ],
      "execution_count": null,
      "outputs": []
    },
    {
      "cell_type": "code",
      "metadata": {
        "id": "BAotTCqOD7a2"
      },
      "source": [
        "def index_sort(list_var):\n",
        "  length = len(list_var)\n",
        "  list_index = list(range(0, length))\n",
        "\n",
        "  x = list_var\n",
        "  for i in range(lenght):\n",
        "    for j in range(lenght):\n",
        "      if x[list_index[i]] > x[list_index[j]]:\n",
        "        #swap\n",
        "        temp = list_index[i]\n",
        "        list_index[i] = list_index[j]\n",
        "        list_index[j] = temp\n",
        "\n",
        "        return list_index"
      ],
      "execution_count": null,
      "outputs": []
    },
    {
      "cell_type": "code",
      "metadata": {
        "id": "NNMdlDimCW7o"
      },
      "source": [
        "#Create the bots response\n",
        "def bot_response(user_input):\n",
        "  user_input = user_input.lower()\n",
        "  sentence_list.append(user_input)\n",
        "  bot_response = ''\n",
        "  cm = CountVectorizer().fit_transform(sentence_list)\n",
        "  similarity_scores = cosine_similarity(cm[-1], cm)\n",
        "  similarity_scores_list = similarity_scores.flatten()\n",
        "  index = index_sort(similarity_scores_list)\n",
        "  index = index[1:]\n",
        "  response_flag = 0\n",
        "\n",
        "  j = 0\n",
        "  for i in range(len(index)):\n",
        "    if similarity_scores_list[index[i]]> 0.0:\n",
        "      bot_response = bot_response+' '+sentence_list[index[i]]\n",
        "      response_flag = 1\n",
        "      if j > 2:\n",
        "        break\n",
        "\n",
        "        if response_flag ==0:\n",
        "          bot_response = bot_response+' '+ \"I apologize, I don't understand.\"\n",
        "\n",
        "          sentence_list.remove(user_input)\n",
        "\n",
        "          return bot_response"
      ],
      "execution_count": null,
      "outputs": []
    },
    {
      "cell_type": "code",
      "metadata": {
        "id": "XaKzTc9jFs4s"
      },
      "source": [
        "#Start the chat\n",
        "name =input('what is your name: ')\n",
        "print('Nincompoop Bot: hello! '+name+' I am Nincompoop or Nino for short. I am here to give you company! if you are not interested then, type bye ')\n",
        "\n",
        "\n",
        "var_1 = ['hi','hello','wassup','hey']\n",
        "var_2 = ['how are you','how are you doing','how is your health']\n",
        "var_3 = ['what is your name','how do I call you','name please']\n",
        "var_4 = ['what are your hobbies','what do you do in your free time']\n",
        "var_5 = ['i am not fine','i am not well','not good','not fine','i am feeling sad today']\n",
        "var_6 = ['done']\n",
        "var_7 = ['fine','good','a little better']\n",
        "var_8 = ['bye','goodbye','see you']\n",
        "var_9 = ['why is this happening to me','when will all this get over']\n",
        "var_10 = ['nothing is working out these days','i feel like i am wasting my time','i feel as if i have done nothing']\n",
        "var_11 = ['how to get negativity out of my mind','how do i get rid of negative thoughts']\n",
        "var_12 = ['thank you','thanks a lot','thanks for helping']\n",
        "name =input()\n",
        "\n",
        "\n",
        "\n",
        "while True:\n",
        "     user_input = input('You said to bot : ')\n",
        "\n",
        "     if user_input.lower() in var_1:\n",
        "         bot_1 = ['hello','hi','hey']\n",
        "         print('Nincompoop bot: '+random.choice(bot_1)+'\\n')\n",
        "\n",
        "     elif user_input.lower() in var_2:\n",
        "         bot_2 = ['I am good.What about you?','I am doing good.What about you?','I am doing fine.What about you?']\n",
        "         print('Nincompoop bot : '+random.choice(bot_2)+'\\n') \n",
        "         \n",
        "     elif user_input.lower() in var_3:\n",
        "         bot_3 = ['My name is Robo.']\n",
        "         print('Nincompoop bot: '+random.choice(bot_3)+'\\n') \n",
        "\n",
        "     elif user_input.lower() in var_4:\n",
        "         bot_4 = ['I love singing','sometimes,I can sing too']\n",
        "         print('Nincompoop bot: '+random.choice(bot_4)+'\\n')\n",
        "\n",
        "     elif user_input.lower() in var_5:\n",
        "         bot_5 = ['Lets do one thing together.Close your eyes and take deep breath and release it slowly.Do it atleast 5 times ']\n",
        "         print('Nincompoop bot: '+random.choice(bot_5)+'\\n')\n",
        " \n",
        "         print('Tell me when you are done')\n",
        "\n",
        "     elif user_input.lower() in var_6:\n",
        "         bot_6 = ['How do you feel now?']\n",
        "         print('Nincompoop bot: '+random.choice(bot_6)+'\\n') \n",
        "\n",
        "     elif user_input.lower() in var_7:\n",
        "         bot_7 = ['Great! Do you want to ell some thing more','Awesome! Yuo are making progress let;s talk more']\n",
        "         print('Nincompoop bot: '+random.choice(bot_7)+'\\n')\n",
        "\n",
        "     elif user_input.lower() in var_8:\n",
        "         bot_8 = ['bye','goodbye','see you']\n",
        "         print('Nincompoop bot: '+random.choice(bot_8)+'\\n')\n",
        "         break \n",
        "\n",
        "     elif user_input.lower() in var_9:\n",
        "         bot_9 = ['It’s not okay that you’re having to endure this. Things will get better slowly']\n",
        "         print('Nincompoop bot: '+random.choice(bot_9)+'\\n')    \n",
        "\n",
        "     elif user_input.lower() in var_10:\n",
        "         bot_10 = ['I can see you’re trying your best.', 'You are doing what you can and that’s all','everyone has their own bad days and it is all right']\n",
        "         print('Nincompoop bot: '+random.choice(bot_10)+'\\n')    \n",
        "\n",
        "     elif user_input.lower() in var_11:\n",
        "         bot_11 = ['You can talk it out to me or someone you trust','writing your thoughts really help alot','keep your mind busy with things you find intresting']\n",
        "         print('Nincompoop bot: '+random.choice(bot_11)+'\\n')  \n",
        "                \n",
        "     elif user_input.lower() in var_12:\n",
        "         bot_12 = ['I am glad I could help','You are welcome!!','My pleasure']\n",
        "         print('Nincompoop bot: '+random.choice(bot_12)+'\\n')  \n",
        "\n",
        "     else:\n",
        "         print('Nincompoop bot: Sorry, what are you asking I am not getting that?'+'\\n')        "
      ],
      "execution_count": null,
      "outputs": []
    }
  ]
}